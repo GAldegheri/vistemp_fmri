{
 "cells": [
  {
   "cell_type": "code",
   "execution_count": 1,
   "metadata": {},
   "outputs": [],
   "source": [
    "import pandas as pd\n",
    "import numpy as np\n",
    "from glob import glob\n",
    "import matplotlib.pyplot as plt\n",
    "import seaborn as sns\n",
    "import pingouin as pg\n",
    "from scipy.stats import pearsonr\n",
    "from pathlib import Path"
   ]
  },
  {
   "cell_type": "markdown",
   "metadata": {},
   "source": [
    "## Accuracy in counting object occurrences"
   ]
  },
  {
   "cell_type": "code",
   "execution_count": 2,
   "metadata": {},
   "outputs": [],
   "source": [
    "countsdata = pd.read_csv('countsdata.csv')"
   ]
  },
  {
   "cell_type": "code",
   "execution_count": null,
   "metadata": {},
   "outputs": [
    {
     "name": "stderr",
     "output_type": "stream",
     "text": [
      "/home/predatt/giaald/.conda/envs/giacomo37/lib/python3.8/site-packages/outdated/utils.py:14: OutdatedPackageWarning: The package outdated is out of date. Your version is 0.2.1, the latest is 0.2.2.\n",
      "Set the environment variable OUTDATED_IGNORE=1 to disable these warnings.\n",
      "  return warn(\n",
      "/home/predatt/giaald/.conda/envs/giacomo37/lib/python3.8/site-packages/outdated/utils.py:14: OutdatedPackageWarning: The package pingouin is out of date. Your version is 0.5.0, the latest is 0.5.5.\n",
      "Set the environment variable OUTDATED_IGNORE=1 to disable these warnings.\n",
      "  return warn(\n"
     ]
    }
   ],
   "source": [
    "corrs = []\n",
    "toexclude = []\n",
    "for s in countsdata.subject.unique():\n",
    "    thissub = countsdata[countsdata.subject==s]\n",
    "    corr = pearsonr(thissub['count'], thissub['targets'])[0]\n",
    "    corrs.append(corr)"
   ]
  },
  {
   "cell_type": "code",
   "execution_count": 4,
   "metadata": {},
   "outputs": [
    {
     "name": "stdout",
     "output_type": "stream",
     "text": [
      "0.7821174516229188\n"
     ]
    }
   ],
   "source": [
    "q1 = np.quantile(corrs, 0.25)\n",
    "print(q1)"
   ]
  },
  {
   "cell_type": "code",
   "execution_count": 5,
   "metadata": {},
   "outputs": [
    {
     "name": "stdout",
     "output_type": "stream",
     "text": [
      "0.9783687318519823\n"
     ]
    }
   ],
   "source": [
    "q3 = np.quantile(corrs, 0.75)\n",
    "print(q3)"
   ]
  },
  {
   "cell_type": "code",
   "execution_count": 6,
   "metadata": {},
   "outputs": [
    {
     "name": "stdout",
     "output_type": "stream",
     "text": [
      "0.19625128022906346\n"
     ]
    }
   ],
   "source": [
    "iqr = q3 - q1\n",
    "print(iqr)"
   ]
  },
  {
   "cell_type": "code",
   "execution_count": 7,
   "metadata": {},
   "outputs": [
    {
     "data": {
      "text/plain": [
       "0.4877405312793236"
      ]
     },
     "execution_count": 7,
     "metadata": {},
     "output_type": "execute_result"
    }
   ],
   "source": [
    "q1 - 1.5 * iqr"
   ]
  },
  {
   "cell_type": "code",
   "execution_count": 12,
   "metadata": {},
   "outputs": [],
   "source": [
    "to_exclude = [i+1 for i, c in enumerate(corrs) if c < q1 - 2 * iqr]\n",
    "excluded_corrs = [c for c in corrs if c < q1 - 2 * iqr]"
   ]
  },
  {
   "cell_type": "code",
   "execution_count": 13,
   "metadata": {},
   "outputs": [
    {
     "data": {
      "text/plain": [
       "[-0.5920141630322447,\n",
       " 0.07159109398550215,\n",
       " -0.46359472715719857,\n",
       " 0.14907119849998596]"
      ]
     },
     "execution_count": 13,
     "metadata": {},
     "output_type": "execute_result"
    }
   ],
   "source": [
    "excluded_corrs"
   ]
  },
  {
   "cell_type": "code",
   "execution_count": 11,
   "metadata": {},
   "outputs": [
    {
     "data": {
      "text/plain": [
       "[9, 19, 22, 26]"
      ]
     },
     "execution_count": 11,
     "metadata": {},
     "output_type": "execute_result"
    }
   ],
   "source": [
    "to_exclude"
   ]
  },
  {
   "cell_type": "code",
   "execution_count": 12,
   "metadata": {},
   "outputs": [],
   "source": [
    "overallcounts = countsdata.groupby(['subject']).sum().reset_index().drop(columns=['run'])\n",
    "overallcounts['correlation'] = corrs"
   ]
  },
  {
   "cell_type": "code",
   "execution_count": 26,
   "metadata": {},
   "outputs": [
    {
     "data": {
      "text/plain": [
       "'0.11.2'"
      ]
     },
     "execution_count": 26,
     "metadata": {},
     "output_type": "execute_result"
    }
   ],
   "source": [
    "sns.__version__"
   ]
  },
  {
   "cell_type": "code",
   "execution_count": 51,
   "metadata": {},
   "outputs": [
    {
     "data": {
      "image/png": "[encoded data removed]",
      "text/plain": [
       "<Figure size 360x576 with 1 Axes>"
      ]
     },
     "metadata": {
      "needs_background": "light"
     },
     "output_type": "display_data"
    }
   ],
   "source": [
    "fig = plt.figure(figsize=(5,8))\n",
    "fpath = Path(\"./fonts/HelveticaWorld-Regular.ttf\")\n",
    "with sns.axes_style('white'):\n",
    "    #ax1 = plt.figure(figsize=(10,8))\n",
    "    ax1 = fig.add_subplot()\n",
    "    # sns.violinplot(y='correlation', data=overallcounts[~overallcounts['subject'].isin(to_exclude)], \n",
    "    #                color=\".8\", inner=None, scale='count', cut=0.0)\n",
    "    sns.stripplot(y='correlation', data=overallcounts[~overallcounts['subject'].isin(to_exclude)],\n",
    "                  jitter=0.08, color='black', size=8, alpha=.5)\n",
    "    sns.stripplot(y='correlation', data=overallcounts[overallcounts['subject'].isin(to_exclude)],\n",
    "                  jitter=0.08, color='red', size=8, alpha=1.)\n",
    "    sns.boxplot(y='correlation', data=overallcounts, width=0.6, whis=2., \n",
    "                linewidth=2., saturation=1, fliersize=0, color='white',\n",
    "                medianprops=dict(color='black', alpha=1.),\n",
    "                boxprops=dict(edgecolor='black'), whiskerprops=dict(color='black', alpha=1.),\n",
    "                capprops=dict(color='black', alpha=1.))\n",
    "    # Get mean and 95% CI:\n",
    "    meanerr = overallcounts['correlation'].median()\n",
    "    tstats = pg.ttest(overallcounts['correlation'], 0.0)\n",
    "    ci95 = tstats['CI95%'][0]\n",
    "    #plt.gca().set_aspect('equal')\n",
    "    #ax1.axis('equal')\n",
    "    #lower = overallcounts['correlation'].mean() - overallcounts['correlation'].sem() #ci95[0]\n",
    "    #upper = overallcounts['correlation'].mean() + overallcounts['correlation'].sem()#ci95[1]\n",
    "    #for tick in ax1.get_xticks():\n",
    "        #ax1.plot([tick-0.05, tick+0.05], [meanerr, meanerr],\n",
    "        #            lw=4, color='k')\n",
    "        # ax1.plot([tick, tick], [lower, upper], lw=3, color='k')\n",
    "        # ax1.plot([tick-0.01, tick+0.01], [lower, lower], lw=3, color='k')\n",
    "        # #ax1.plot([tick-0.1, tick+0.1], [lower-overallcounts['corr'].std(), lower-overallcounts['corr'].std()], lw=3, color='k')\n",
    "        # ax1.plot([tick-0.01, tick+0.01], [upper, upper], lw=3, color='k')\n",
    "        # circlemarker = matplotlib.patches.Ellipse((tick+0.0032, meandiff), 0.06, 0.02, color='k')\n",
    "        # ax1.add_patch(circlemarker)\n",
    "       \n",
    "    #ax1.axhline(0.0, linestyle='--', color='black')\n",
    "    plt.yticks(font=fpath, fontsize=24) \n",
    "    ax1.set_ylabel('Correlation (Pearson\\'s r)', font=fpath, fontsize=28)\n",
    "    #ax1.set(ylim=(0, 1.05))\n",
    "    #ax1.set(xlim=(-0.2, 0.2))\n",
    "    ax1.axes_style = 'white'\n",
    "    ax1.spines['top'].set_visible(False)\n",
    "    ax1.spines['right'].set_visible(False)\n",
    "    ax1.spines['bottom'].set_visible(False)\n",
    "    ax1.spines['left'].set_linewidth(2)\n",
    "    ax1.axhline(0.0, color='k', linestyle='--', linewidth=2.)\n",
    "plt.tight_layout()\n",
    "plt.savefig('results_plots/behav_correlations.svg')"
   ]
  },
  {
   "cell_type": "markdown",
   "metadata": {},
   "source": [
    "## Demographics"
   ]
  },
  {
   "cell_type": "code",
   "execution_count": 2,
   "metadata": {},
   "outputs": [],
   "source": [
    "subjdemofile = '../../../bids/participants.tsv'\n",
    "subjdemo = pd.read_csv(subjdemofile, sep='\\t')"
   ]
  },
  {
   "cell_type": "code",
   "execution_count": 4,
   "metadata": {},
   "outputs": [],
   "source": [
    "to_exclude = ['sub-{:03d}'.format(s) for s in [9, 22, 19, 26]]\n",
    "subjdemo = subjdemo[~subjdemo['participant_id'].isin(to_exclude)]"
   ]
  },
  {
   "cell_type": "code",
   "execution_count": null,
   "metadata": {},
   "outputs": [],
   "source": []
  }
 ],
 "metadata": {
  "kernelspec": {
   "display_name": "giacomo37",
   "language": "python",
   "name": "python3"
  },
  "language_info": {
   "codemirror_mode": {
    "name": "ipython",
    "version": 3
   },
   "file_extension": ".py",
   "mimetype": "text/x-python",
   "name": "python",
   "nbconvert_exporter": "python",
   "pygments_lexer": "ipython3",
   "version": "3.8.5"
  }
 },
 "nbformat": 4,
 "nbformat_minor": 2
}
